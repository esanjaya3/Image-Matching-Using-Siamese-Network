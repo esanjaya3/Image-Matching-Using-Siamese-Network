{
  "nbformat": 4,
  "nbformat_minor": 0,
  "metadata": {
    "colab": {
      "name": "Product Matching.ipnyb",
      "provenance": [],
      "collapsed_sections": []
    },
    "kernelspec": {
      "display_name": "Python 3",
      "name": "python3"
    },
    "accelerator": "GPU"
  },
  "cells": [
    {
      "cell_type": "markdown",
      "metadata": {
        "id": "kiW9mF4nezv4"
      },
      "source": [
        " Import library"
      ]
    },
    {
      "cell_type": "code",
      "metadata": {
        "id": "dclmllXJPtHG"
      },
      "source": [
        "from tqdm import tqdm\n",
        "import cv2\n",
        "import os\n",
        "import zipfile\n",
        "import numpy as np\n",
        "import pandas as pd\n",
        "import matplotlib.pyplot as plt\n",
        "import tensorflow as tf\n",
        "from tensorflow import keras\n",
        "from keras.preprocessing import image\n",
        "from tensorflow.keras import layers\n",
        "from keras.layers import Dense, GlobalAveragePooling2D, Dropout\n",
        "from tensorflow.keras import applications"
      ],
      "execution_count": null,
      "outputs": []
    },
    {
      "cell_type": "markdown",
      "metadata": {
        "id": "N1fPEFc2e826"
      },
      "source": [
        "Download kaggle Dataset"
      ]
    },
    {
      "cell_type": "code",
      "metadata": {
        "colab": {
          "base_uri": "https://localhost:8080/"
        },
        "id": "F5kFSaqrPZiu",
        "outputId": "58576485-be80-48bb-a085-1000711a69b8"
      },
      "source": [
        "!pip install --upgrade --force-reinstall --no-deps kaggle\n",
        "os.environ['KAGGLE_USERNAME']=\"esanjaya3\"\n",
        "os.environ['KAGGLE_KEY']=\"cc7b37b82c02b069503dc8957e22831e\"\n",
        "\n",
        "! kaggle competitions download -c pre-product-matching-id-ndsc-2020 --force\n",
        "! kaggle competitions download -c product-matching-id-ndsc-2020"
      ],
      "execution_count": null,
      "outputs": [
        {
          "output_type": "stream",
          "text": [
            "Collecting kaggle\n",
            "\u001b[?25l  Downloading https://files.pythonhosted.org/packages/fe/52/3d13208c0f24c72b886c400e94748076222d5ffa4913fb410af50cb09219/kaggle-1.5.9.tar.gz (58kB)\n",
            "\r\u001b[K     |█████▋                          | 10kB 24.4MB/s eta 0:00:01\r\u001b[K     |███████████▎                    | 20kB 15.4MB/s eta 0:00:01\r\u001b[K     |████████████████▉               | 30kB 13.9MB/s eta 0:00:01\r\u001b[K     |██████████████████████▌         | 40kB 13.7MB/s eta 0:00:01\r\u001b[K     |████████████████████████████▏   | 51kB 10.9MB/s eta 0:00:01\r\u001b[K     |████████████████████████████████| 61kB 6.5MB/s \n",
            "\u001b[?25hBuilding wheels for collected packages: kaggle\n",
            "  Building wheel for kaggle (setup.py) ... \u001b[?25l\u001b[?25hdone\n",
            "  Created wheel for kaggle: filename=kaggle-1.5.9-cp36-none-any.whl size=73265 sha256=30874e3764394c6f4d42d38105a190b65a1f364750d3b404697f268cb8ef7636\n",
            "  Stored in directory: /root/.cache/pip/wheels/68/6d/9b/7a98271454edcba3b56328cbc78c037286e787d004c8afee71\n",
            "Successfully built kaggle\n",
            "Installing collected packages: kaggle\n",
            "  Found existing installation: kaggle 1.5.9\n",
            "    Uninstalling kaggle-1.5.9:\n",
            "      Successfully uninstalled kaggle-1.5.9\n",
            "Successfully installed kaggle-1.5.9\n",
            "Downloading pre-product-matching-id-ndsc-2020.zip to /content\n",
            " 99% 0.99G/0.99G [00:06<00:00, 202MB/s]\n",
            "100% 0.99G/0.99G [00:06<00:00, 157MB/s]\n",
            "Downloading product-matching-id-ndsc-2020.zip to /content\n",
            "100% 2.64G/2.64G [00:59<00:00, 45.2MB/s]\n",
            "100% 2.64G/2.64G [00:59<00:00, 47.8MB/s]\n"
          ],
          "name": "stdout"
        }
      ]
    },
    {
      "cell_type": "markdown",
      "metadata": {
        "id": "H3e33iHbSfV_"
      },
      "source": [
        "Extract Data\n"
      ]
    },
    {
      "cell_type": "code",
      "metadata": {
        "id": "ynmXABj-QRWB"
      },
      "source": [
        "local_zip = '/content/pre-product-matching-id-ndsc-2020.zip'\n",
        "zip_ref = zipfile.ZipFile(local_zip, 'r')\n",
        "zip_ref.extractall('/content/product')\n",
        "zip_ref.close()\n",
        "\n",
        "local_zip = '/content/product-matching-id-ndsc-2020.zip'\n",
        "zip_ref = zipfile.ZipFile(local_zip, 'r')\n",
        "zip_ref.extractall('/content/productTest')\n",
        "zip_ref.close()"
      ],
      "execution_count": null,
      "outputs": []
    },
    {
      "cell_type": "markdown",
      "metadata": {
        "id": "uRiOk2ojfw6G"
      },
      "source": [
        "Split Image in Training Set to Compare (image_1 & image_2)"
      ]
    },
    {
      "cell_type": "code",
      "metadata": {
        "id": "3p5L1eQq39Kw"
      },
      "source": [
        "train_csv = pd.read_csv('/content/product/new_training_set.csv')\n",
        "img_name1 = np.array(train_csv['image_1'])\n",
        "img_name2 = np.array(train_csv['image_2'])\n",
        "label = np.array(train_csv['Label'])"
      ],
      "execution_count": null,
      "outputs": []
    },
    {
      "cell_type": "markdown",
      "metadata": {
        "id": "lkZjovUJR8Fm"
      },
      "source": [
        "Getting Test Data From CSV file"
      ]
    },
    {
      "cell_type": "code",
      "metadata": {
        "id": "s1JqCCkqBk8o",
        "colab": {
          "base_uri": "https://localhost:8080/"
        },
        "outputId": "966fa38e-2062-4e6b-eb81-3c2738de3b33"
      },
      "source": [
        "test_csv = pd.read_csv('/content/productTest/new_test_set.csv')\n",
        "!ls /content/productTest"
      ],
      "execution_count": null,
      "outputs": [
        {
          "output_type": "stream",
          "text": [
            "new_test_set.csv  new_training_set.csv\ttest_img  training_img\n"
          ],
          "name": "stdout"
        }
      ]
    },
    {
      "cell_type": "code",
      "metadata": {
        "id": "HJhhZlWk42Eh"
      },
      "source": [
        "from PIL import ImageFile\n",
        "ImageFile.LOAD_TRUNCATED_IMAGES = True"
      ],
      "execution_count": null,
      "outputs": []
    },
    {
      "cell_type": "markdown",
      "metadata": {
        "id": "eJo86pb1SNUs"
      },
      "source": [
        "Define Function for Image Preprocessing"
      ]
    },
    {
      "cell_type": "code",
      "metadata": {
        "id": "owWbqEt5Qqk3"
      },
      "source": [
        "def image_load(path,list):\n",
        "  train_img = []\n",
        "  for im in tqdm(list):\n",
        "    fnpath = os.path.join(path,im)\n",
        "    img = cv2.imread(fnpath)\n",
        "    img = cv2.resize(img,(75,75))\n",
        "    img = img.astype('float32')\n",
        "    train_img.append(img)\n",
        "  train_img = np.array(train_img) \n",
        "  return train_img"
      ],
      "execution_count": null,
      "outputs": []
    },
    {
      "cell_type": "markdown",
      "metadata": {
        "id": "vaUMTu6RSpw8"
      },
      "source": [
        "Define Path Image Folder for Training and Test Dataset"
      ]
    },
    {
      "cell_type": "code",
      "metadata": {
        "id": "t4ixffdYA3AG"
      },
      "source": [
        "train_path = \"/content/product/training_img/training_img/\"\n",
        "test_path = \"/content/productTest/test_img/test_img/\""
      ],
      "execution_count": null,
      "outputs": []
    },
    {
      "cell_type": "markdown",
      "metadata": {
        "id": "8IPOgQgGTIfZ"
      },
      "source": [
        "Image Preprocessing"
      ]
    },
    {
      "cell_type": "code",
      "metadata": {
        "colab": {
          "base_uri": "https://localhost:8080/"
        },
        "id": "Ql1vFuKuCMzH",
        "outputId": "d6fb16ed-7461-48fd-bb5b-8e075c3267cc"
      },
      "source": [
        "#left training image\n",
        "train_img1 = image_load(train_path,train_csv[\"image_1\"])"
      ],
      "execution_count": null,
      "outputs": [
        {
          "output_type": "stream",
          "text": [
            "100%|██████████| 10181/10181 [01:27<00:00, 116.30it/s]\n"
          ],
          "name": "stderr"
        }
      ]
    },
    {
      "cell_type": "code",
      "metadata": {
        "colab": {
          "base_uri": "https://localhost:8080/"
        },
        "id": "mpiDPiiGDLFL",
        "outputId": "0912f565-8629-4869-d317-d55e5be2b638"
      },
      "source": [
        "#right training image\n",
        "train_img2 = image_load(train_path,train_csv[\"image_2\"])"
      ],
      "execution_count": null,
      "outputs": [
        {
          "output_type": "stream",
          "text": [
            "100%|██████████| 10181/10181 [01:16<00:00, 133.63it/s]\n"
          ],
          "name": "stderr"
        }
      ]
    },
    {
      "cell_type": "code",
      "metadata": {
        "colab": {
          "base_uri": "https://localhost:8080/"
        },
        "id": "vZQ3gN9iDLN0",
        "outputId": "f1471e43-249e-4fd1-9288-f240d1eb1720"
      },
      "source": [
        "#left test image\n",
        "test_img1 = image_load(test_path,test_csv[\"image_1\"])"
      ],
      "execution_count": null,
      "outputs": [
        {
          "output_type": "stream",
          "text": [
            "100%|██████████| 32580/32580 [04:33<00:00, 119.26it/s]\n"
          ],
          "name": "stderr"
        }
      ]
    },
    {
      "cell_type": "code",
      "metadata": {
        "colab": {
          "base_uri": "https://localhost:8080/"
        },
        "id": "WWImyzfWDNAk",
        "outputId": "05648d9a-923b-400d-a16d-b11d08e01bb8"
      },
      "source": [
        "#right test image\n",
        "test_img2 = image_load(test_path,test_csv[\"image_2\"])"
      ],
      "execution_count": null,
      "outputs": [
        {
          "output_type": "stream",
          "text": [
            "100%|██████████| 32580/32580 [04:37<00:00, 117.61it/s]\n"
          ],
          "name": "stderr"
        }
      ]
    },
    {
      "cell_type": "code",
      "metadata": {
        "colab": {
          "base_uri": "https://localhost:8080/"
        },
        "id": "9eDzm5zbT41O",
        "outputId": "23126851-ed56-4348-f4c6-08bf1155df52"
      },
      "source": [
        "print(train_img1.shape)\n",
        "print(train_img2.shape)\n",
        "print(test_img1.shape)\n",
        "print(test_img2.shape)"
      ],
      "execution_count": null,
      "outputs": [
        {
          "output_type": "stream",
          "text": [
            "(10181, 75, 75, 3)\n",
            "(10181, 75, 75, 3)\n",
            "(32580, 75, 75, 3)\n",
            "(32580, 75, 75, 3)\n"
          ],
          "name": "stdout"
        }
      ]
    },
    {
      "cell_type": "code",
      "metadata": {
        "id": "CEnUt_t1EZxq"
      },
      "source": [
        "# base.summary()"
      ],
      "execution_count": null,
      "outputs": []
    },
    {
      "cell_type": "markdown",
      "metadata": {
        "id": "scJUN4BO7WVt"
      },
      "source": [
        "Model Network I"
      ]
    },
    {
      "cell_type": "code",
      "metadata": {
        "id": "t6wCz-Ji4COK",
        "colab": {
          "base_uri": "https://localhost:8080/"
        },
        "outputId": "44a511cd-99df-4ad2-d0fd-f213e8464fc7"
      },
      "source": [
        "from keras.layers import Activation\n",
        "from keras.layers import Input, Lambda, Dense, Dropout, Convolution2D, MaxPooling2D, Flatten\n",
        "from keras.models import Sequential, Model\n",
        "model = Sequential()\n",
        "kernel_size = 3\n",
        "nb_filter = [6, 12]\n",
        "\n",
        "\n",
        "\n",
        "#convolutional layer 1\n",
        "model.add(Convolution2D(nb_filter[0], kernel_size, kernel_size, input_shape=(75,75,3)))\n",
        "model.add(Activation('relu'))\n",
        "model.add(MaxPooling2D(pool_size=(2, 2)))  \n",
        "model.add(Dropout(.25))\n",
        "\n",
        "#convolutional layer 2\n",
        "model.add(Convolution2D(nb_filter[1], kernel_size, kernel_size))\n",
        "model.add(Activation('relu'))\n",
        "model.add(MaxPooling2D(pool_size=(2, 2))) \n",
        "model.add(Dropout(.25))\n",
        "\n",
        "#flatten \n",
        "model.add(Flatten())\n",
        "model.add(Dense(128, activation='relu'))\n",
        "# model.add(Dropout(0.1))\n",
        "# model.add(Dense(50, activation='relu'))\n",
        "\n",
        "model.summary()\n",
        "\n",
        "pre_img1 = model(train_img1[0:10000])\n",
        "pre_img2 = model(train_img2[0:10000]) \n",
        "pretest_img1 = model(test_img1)\n",
        "pretest_img2 = model(test_img2) "
      ],
      "execution_count": null,
      "outputs": [
        {
          "output_type": "stream",
          "text": [
            "Model: \"sequential\"\n",
            "_________________________________________________________________\n",
            "Layer (type)                 Output Shape              Param #   \n",
            "=================================================================\n",
            "conv2d (Conv2D)              (None, 25, 25, 6)         168       \n",
            "_________________________________________________________________\n",
            "activation (Activation)      (None, 25, 25, 6)         0         \n",
            "_________________________________________________________________\n",
            "max_pooling2d (MaxPooling2D) (None, 12, 12, 6)         0         \n",
            "_________________________________________________________________\n",
            "dropout (Dropout)            (None, 12, 12, 6)         0         \n",
            "_________________________________________________________________\n",
            "conv2d_1 (Conv2D)            (None, 4, 4, 12)          660       \n",
            "_________________________________________________________________\n",
            "activation_1 (Activation)    (None, 4, 4, 12)          0         \n",
            "_________________________________________________________________\n",
            "max_pooling2d_1 (MaxPooling2 (None, 2, 2, 12)          0         \n",
            "_________________________________________________________________\n",
            "dropout_1 (Dropout)          (None, 2, 2, 12)          0         \n",
            "_________________________________________________________________\n",
            "flatten (Flatten)            (None, 48)                0         \n",
            "_________________________________________________________________\n",
            "dense (Dense)                (None, 128)               6272      \n",
            "=================================================================\n",
            "Total params: 7,100\n",
            "Trainable params: 7,100\n",
            "Non-trainable params: 0\n",
            "_________________________________________________________________\n"
          ],
          "name": "stdout"
        }
      ]
    },
    {
      "cell_type": "markdown",
      "metadata": {
        "id": "0Q0KzEYA7ipA"
      },
      "source": [
        "Model Network II\n"
      ]
    },
    {
      "cell_type": "code",
      "metadata": {
        "colab": {
          "base_uri": "https://localhost:8080/"
        },
        "id": "TXif7mEGz7QA",
        "outputId": "7fd3246f-b32f-4655-f71f-c8af17d88244"
      },
      "source": [
        "input = keras.backend.abs(pre_img1 - pre_img2)\n",
        "test = keras.backend.abs(pretest_img1 - pretest_img2)\n",
        "input_shape = input.shape[1]\n",
        "model2 = keras.Sequential(\n",
        "    [\n",
        "     layers.Input(shape=(input_shape)),\n",
        "     layers.Dense(1, activation=\"sigmoid\"),\n",
        "    ]\n",
        ")\n",
        "model2.compile(loss=keras.losses.BinaryCrossentropy(),\n",
        "      optimizer=keras.optimizers.Adam(),\n",
        "      metrics=['accuracy'])\n",
        "fit = model2.fit(input, label[0:10000],epochs=300)"
      ],
      "execution_count": null,
      "outputs": [
        {
          "output_type": "stream",
          "text": [
            "Epoch 1/300\n",
            "313/313 [==============================] - 1s 2ms/step - loss: 2.8806 - accuracy: 0.5341\n",
            "Epoch 2/300\n",
            "313/313 [==============================] - 1s 2ms/step - loss: 1.4905 - accuracy: 0.5891\n",
            "Epoch 3/300\n",
            "313/313 [==============================] - 1s 2ms/step - loss: 0.8403 - accuracy: 0.6403\n",
            "Epoch 4/300\n",
            "313/313 [==============================] - 1s 2ms/step - loss: 0.6526 - accuracy: 0.6767\n",
            "Epoch 5/300\n",
            "313/313 [==============================] - 1s 2ms/step - loss: 0.6098 - accuracy: 0.6918\n",
            "Epoch 6/300\n",
            "313/313 [==============================] - 1s 2ms/step - loss: 0.5956 - accuracy: 0.6929\n",
            "Epoch 7/300\n",
            "313/313 [==============================] - 1s 2ms/step - loss: 0.5871 - accuracy: 0.7059\n",
            "Epoch 8/300\n",
            "313/313 [==============================] - 1s 2ms/step - loss: 0.5836 - accuracy: 0.6967\n",
            "Epoch 9/300\n",
            "313/313 [==============================] - 1s 2ms/step - loss: 0.5773 - accuracy: 0.6974\n",
            "Epoch 10/300\n",
            "313/313 [==============================] - 1s 2ms/step - loss: 0.5736 - accuracy: 0.6954\n",
            "Epoch 11/300\n",
            "313/313 [==============================] - 1s 2ms/step - loss: 0.5690 - accuracy: 0.6950\n",
            "Epoch 12/300\n",
            "313/313 [==============================] - 1s 2ms/step - loss: 0.5627 - accuracy: 0.7025\n",
            "Epoch 13/300\n",
            "313/313 [==============================] - 1s 2ms/step - loss: 0.5597 - accuracy: 0.6956\n",
            "Epoch 14/300\n",
            "313/313 [==============================] - 1s 2ms/step - loss: 0.5684 - accuracy: 0.6892\n",
            "Epoch 15/300\n",
            "313/313 [==============================] - 1s 2ms/step - loss: 0.5537 - accuracy: 0.6998\n",
            "Epoch 16/300\n",
            "313/313 [==============================] - 1s 2ms/step - loss: 0.5570 - accuracy: 0.7003\n",
            "Epoch 17/300\n",
            "313/313 [==============================] - 1s 2ms/step - loss: 0.5568 - accuracy: 0.6993\n",
            "Epoch 18/300\n",
            "313/313 [==============================] - 1s 2ms/step - loss: 0.5587 - accuracy: 0.6954\n",
            "Epoch 19/300\n",
            "313/313 [==============================] - 1s 2ms/step - loss: 0.5514 - accuracy: 0.6969\n",
            "Epoch 20/300\n",
            "313/313 [==============================] - 1s 2ms/step - loss: 0.5573 - accuracy: 0.6951\n",
            "Epoch 21/300\n",
            "313/313 [==============================] - 1s 2ms/step - loss: 0.5534 - accuracy: 0.7017\n",
            "Epoch 22/300\n",
            "313/313 [==============================] - 1s 2ms/step - loss: 0.5522 - accuracy: 0.6979\n",
            "Epoch 23/300\n",
            "313/313 [==============================] - 1s 2ms/step - loss: 0.5467 - accuracy: 0.7021\n",
            "Epoch 24/300\n",
            "313/313 [==============================] - 1s 2ms/step - loss: 0.5514 - accuracy: 0.7044\n",
            "Epoch 25/300\n",
            "313/313 [==============================] - 1s 2ms/step - loss: 0.5546 - accuracy: 0.6961\n",
            "Epoch 26/300\n",
            "313/313 [==============================] - 1s 2ms/step - loss: 0.5481 - accuracy: 0.6943\n",
            "Epoch 27/300\n",
            "313/313 [==============================] - 1s 2ms/step - loss: 0.5533 - accuracy: 0.6976\n",
            "Epoch 28/300\n",
            "313/313 [==============================] - 1s 2ms/step - loss: 0.5543 - accuracy: 0.6934\n",
            "Epoch 29/300\n",
            "313/313 [==============================] - 1s 2ms/step - loss: 0.5598 - accuracy: 0.6947\n",
            "Epoch 30/300\n",
            "313/313 [==============================] - 1s 2ms/step - loss: 0.5519 - accuracy: 0.7004\n",
            "Epoch 31/300\n",
            "313/313 [==============================] - 1s 2ms/step - loss: 0.5561 - accuracy: 0.6964\n",
            "Epoch 32/300\n",
            "313/313 [==============================] - 1s 2ms/step - loss: 0.5593 - accuracy: 0.6930\n",
            "Epoch 33/300\n",
            "313/313 [==============================] - 1s 2ms/step - loss: 0.5602 - accuracy: 0.6966\n",
            "Epoch 34/300\n",
            "313/313 [==============================] - 1s 2ms/step - loss: 0.5502 - accuracy: 0.7039\n",
            "Epoch 35/300\n",
            "313/313 [==============================] - 1s 2ms/step - loss: 0.5508 - accuracy: 0.6948\n",
            "Epoch 36/300\n",
            "313/313 [==============================] - 1s 2ms/step - loss: 0.5528 - accuracy: 0.6938\n",
            "Epoch 37/300\n",
            "313/313 [==============================] - 1s 2ms/step - loss: 0.5484 - accuracy: 0.6967\n",
            "Epoch 38/300\n",
            "313/313 [==============================] - 1s 2ms/step - loss: 0.5536 - accuracy: 0.6980\n",
            "Epoch 39/300\n",
            "313/313 [==============================] - 1s 2ms/step - loss: 0.5585 - accuracy: 0.6948\n",
            "Epoch 40/300\n",
            "313/313 [==============================] - 1s 2ms/step - loss: 0.5599 - accuracy: 0.6925\n",
            "Epoch 41/300\n",
            "313/313 [==============================] - 1s 2ms/step - loss: 0.5489 - accuracy: 0.6998\n",
            "Epoch 42/300\n",
            "313/313 [==============================] - 1s 2ms/step - loss: 0.5549 - accuracy: 0.6975\n",
            "Epoch 43/300\n",
            "313/313 [==============================] - 1s 2ms/step - loss: 0.5469 - accuracy: 0.7000\n",
            "Epoch 44/300\n",
            "313/313 [==============================] - 1s 2ms/step - loss: 0.5560 - accuracy: 0.6933\n",
            "Epoch 45/300\n",
            "313/313 [==============================] - 1s 2ms/step - loss: 0.5447 - accuracy: 0.7020\n",
            "Epoch 46/300\n",
            "313/313 [==============================] - 1s 2ms/step - loss: 0.5486 - accuracy: 0.6993\n",
            "Epoch 47/300\n",
            "313/313 [==============================] - 1s 2ms/step - loss: 0.5524 - accuracy: 0.6967\n",
            "Epoch 48/300\n",
            "313/313 [==============================] - 1s 2ms/step - loss: 0.5540 - accuracy: 0.7019\n",
            "Epoch 49/300\n",
            "313/313 [==============================] - 1s 2ms/step - loss: 0.5478 - accuracy: 0.7029\n",
            "Epoch 50/300\n",
            "313/313 [==============================] - 1s 2ms/step - loss: 0.5549 - accuracy: 0.6979\n",
            "Epoch 51/300\n",
            "313/313 [==============================] - 1s 2ms/step - loss: 0.5510 - accuracy: 0.6997\n",
            "Epoch 52/300\n",
            "313/313 [==============================] - 1s 2ms/step - loss: 0.5478 - accuracy: 0.7003\n",
            "Epoch 53/300\n",
            "313/313 [==============================] - 1s 2ms/step - loss: 0.5545 - accuracy: 0.6949\n",
            "Epoch 54/300\n",
            "313/313 [==============================] - 1s 2ms/step - loss: 0.5497 - accuracy: 0.6951\n",
            "Epoch 55/300\n",
            "313/313 [==============================] - 1s 2ms/step - loss: 0.5521 - accuracy: 0.6951\n",
            "Epoch 56/300\n",
            "313/313 [==============================] - 1s 2ms/step - loss: 0.5510 - accuracy: 0.6985\n",
            "Epoch 57/300\n",
            "313/313 [==============================] - 1s 2ms/step - loss: 0.5456 - accuracy: 0.7008\n",
            "Epoch 58/300\n",
            "313/313 [==============================] - 1s 2ms/step - loss: 0.5516 - accuracy: 0.7001\n",
            "Epoch 59/300\n",
            "313/313 [==============================] - 1s 2ms/step - loss: 0.5583 - accuracy: 0.6957\n",
            "Epoch 60/300\n",
            "313/313 [==============================] - 1s 2ms/step - loss: 0.5453 - accuracy: 0.6984\n",
            "Epoch 61/300\n",
            "313/313 [==============================] - 1s 2ms/step - loss: 0.5478 - accuracy: 0.6959\n",
            "Epoch 62/300\n",
            "313/313 [==============================] - 1s 2ms/step - loss: 0.5525 - accuracy: 0.6968\n",
            "Epoch 63/300\n",
            "313/313 [==============================] - 1s 2ms/step - loss: 0.5476 - accuracy: 0.6999\n",
            "Epoch 64/300\n",
            "313/313 [==============================] - 1s 2ms/step - loss: 0.5499 - accuracy: 0.6968\n",
            "Epoch 65/300\n",
            "313/313 [==============================] - 1s 2ms/step - loss: 0.5581 - accuracy: 0.6953\n",
            "Epoch 66/300\n",
            "313/313 [==============================] - 1s 2ms/step - loss: 0.5468 - accuracy: 0.7019\n",
            "Epoch 67/300\n",
            "313/313 [==============================] - 1s 2ms/step - loss: 0.5531 - accuracy: 0.6963\n",
            "Epoch 68/300\n",
            "313/313 [==============================] - 1s 2ms/step - loss: 0.5534 - accuracy: 0.6929\n",
            "Epoch 69/300\n",
            "313/313 [==============================] - 1s 2ms/step - loss: 0.5501 - accuracy: 0.7000\n",
            "Epoch 70/300\n",
            "313/313 [==============================] - 1s 2ms/step - loss: 0.5549 - accuracy: 0.6962\n",
            "Epoch 71/300\n",
            "313/313 [==============================] - 1s 2ms/step - loss: 0.5612 - accuracy: 0.6930\n",
            "Epoch 72/300\n",
            "313/313 [==============================] - 1s 2ms/step - loss: 0.5462 - accuracy: 0.7000\n",
            "Epoch 73/300\n",
            "313/313 [==============================] - 1s 2ms/step - loss: 0.5480 - accuracy: 0.7038\n",
            "Epoch 74/300\n",
            "313/313 [==============================] - 1s 2ms/step - loss: 0.5485 - accuracy: 0.6982\n",
            "Epoch 75/300\n",
            "313/313 [==============================] - 1s 2ms/step - loss: 0.5511 - accuracy: 0.6980\n",
            "Epoch 76/300\n",
            "313/313 [==============================] - 1s 2ms/step - loss: 0.5559 - accuracy: 0.7003\n",
            "Epoch 77/300\n",
            "313/313 [==============================] - 1s 2ms/step - loss: 0.5487 - accuracy: 0.6967\n",
            "Epoch 78/300\n",
            "313/313 [==============================] - 1s 2ms/step - loss: 0.5449 - accuracy: 0.6990\n",
            "Epoch 79/300\n",
            "313/313 [==============================] - 1s 2ms/step - loss: 0.5536 - accuracy: 0.6954\n",
            "Epoch 80/300\n",
            "313/313 [==============================] - 1s 2ms/step - loss: 0.5490 - accuracy: 0.6983\n",
            "Epoch 81/300\n",
            "313/313 [==============================] - 1s 2ms/step - loss: 0.5510 - accuracy: 0.6957\n",
            "Epoch 82/300\n",
            "313/313 [==============================] - 1s 2ms/step - loss: 0.5541 - accuracy: 0.6945\n",
            "Epoch 83/300\n",
            "313/313 [==============================] - 1s 2ms/step - loss: 0.5544 - accuracy: 0.6950\n",
            "Epoch 84/300\n",
            "313/313 [==============================] - 1s 2ms/step - loss: 0.5521 - accuracy: 0.6971\n",
            "Epoch 85/300\n",
            "313/313 [==============================] - 1s 2ms/step - loss: 0.5471 - accuracy: 0.7024\n",
            "Epoch 86/300\n",
            "313/313 [==============================] - 1s 2ms/step - loss: 0.5510 - accuracy: 0.6961\n",
            "Epoch 87/300\n",
            "313/313 [==============================] - 1s 2ms/step - loss: 0.5503 - accuracy: 0.6945\n",
            "Epoch 88/300\n",
            "313/313 [==============================] - 1s 2ms/step - loss: 0.5512 - accuracy: 0.6983\n",
            "Epoch 89/300\n",
            "313/313 [==============================] - 1s 2ms/step - loss: 0.5522 - accuracy: 0.6962\n",
            "Epoch 90/300\n",
            "313/313 [==============================] - 1s 2ms/step - loss: 0.5534 - accuracy: 0.6969\n",
            "Epoch 91/300\n",
            "313/313 [==============================] - 1s 2ms/step - loss: 0.5519 - accuracy: 0.6972\n",
            "Epoch 92/300\n",
            "313/313 [==============================] - 1s 2ms/step - loss: 0.5471 - accuracy: 0.7003\n",
            "Epoch 93/300\n",
            "313/313 [==============================] - 1s 2ms/step - loss: 0.5495 - accuracy: 0.7002\n",
            "Epoch 94/300\n",
            "313/313 [==============================] - 1s 2ms/step - loss: 0.5584 - accuracy: 0.6950\n",
            "Epoch 95/300\n",
            "313/313 [==============================] - 1s 2ms/step - loss: 0.5513 - accuracy: 0.6998\n",
            "Epoch 96/300\n",
            "313/313 [==============================] - 1s 2ms/step - loss: 0.5515 - accuracy: 0.6958\n",
            "Epoch 97/300\n",
            "313/313 [==============================] - 1s 2ms/step - loss: 0.5489 - accuracy: 0.6981\n",
            "Epoch 98/300\n",
            "313/313 [==============================] - 1s 2ms/step - loss: 0.5485 - accuracy: 0.6989\n",
            "Epoch 99/300\n",
            "313/313 [==============================] - 1s 2ms/step - loss: 0.5530 - accuracy: 0.6975\n",
            "Epoch 100/300\n",
            "313/313 [==============================] - 1s 2ms/step - loss: 0.5520 - accuracy: 0.7007\n",
            "Epoch 101/300\n",
            "313/313 [==============================] - 1s 2ms/step - loss: 0.5507 - accuracy: 0.6942\n",
            "Epoch 102/300\n",
            "313/313 [==============================] - 1s 2ms/step - loss: 0.5519 - accuracy: 0.6955\n",
            "Epoch 103/300\n",
            "313/313 [==============================] - 1s 2ms/step - loss: 0.5563 - accuracy: 0.6948\n",
            "Epoch 104/300\n",
            "313/313 [==============================] - 1s 2ms/step - loss: 0.5516 - accuracy: 0.6988\n",
            "Epoch 105/300\n",
            "313/313 [==============================] - 1s 2ms/step - loss: 0.5540 - accuracy: 0.6972\n",
            "Epoch 106/300\n",
            "313/313 [==============================] - 1s 2ms/step - loss: 0.5558 - accuracy: 0.6983\n",
            "Epoch 107/300\n",
            "313/313 [==============================] - 1s 2ms/step - loss: 0.5492 - accuracy: 0.6992\n",
            "Epoch 108/300\n",
            "313/313 [==============================] - 1s 2ms/step - loss: 0.5496 - accuracy: 0.6995\n",
            "Epoch 109/300\n",
            "313/313 [==============================] - 1s 2ms/step - loss: 0.5488 - accuracy: 0.6984\n",
            "Epoch 110/300\n",
            "313/313 [==============================] - 1s 2ms/step - loss: 0.5556 - accuracy: 0.6929\n",
            "Epoch 111/300\n",
            "313/313 [==============================] - 1s 2ms/step - loss: 0.5462 - accuracy: 0.6994\n",
            "Epoch 112/300\n",
            "313/313 [==============================] - 1s 2ms/step - loss: 0.5490 - accuracy: 0.7003\n",
            "Epoch 113/300\n",
            "313/313 [==============================] - 1s 2ms/step - loss: 0.5481 - accuracy: 0.7005\n",
            "Epoch 114/300\n",
            "313/313 [==============================] - 1s 2ms/step - loss: 0.5501 - accuracy: 0.7031\n",
            "Epoch 115/300\n",
            "313/313 [==============================] - 1s 2ms/step - loss: 0.5565 - accuracy: 0.6927\n",
            "Epoch 116/300\n",
            "313/313 [==============================] - 1s 2ms/step - loss: 0.5510 - accuracy: 0.6961\n",
            "Epoch 117/300\n",
            "313/313 [==============================] - 1s 2ms/step - loss: 0.5503 - accuracy: 0.7011\n",
            "Epoch 118/300\n",
            "313/313 [==============================] - 1s 2ms/step - loss: 0.5486 - accuracy: 0.6967\n",
            "Epoch 119/300\n",
            "313/313 [==============================] - 1s 2ms/step - loss: 0.5537 - accuracy: 0.6958\n",
            "Epoch 120/300\n",
            "313/313 [==============================] - 1s 2ms/step - loss: 0.5508 - accuracy: 0.6983\n",
            "Epoch 121/300\n",
            "313/313 [==============================] - 1s 2ms/step - loss: 0.5503 - accuracy: 0.6969\n",
            "Epoch 122/300\n",
            "313/313 [==============================] - 1s 2ms/step - loss: 0.5526 - accuracy: 0.6990\n",
            "Epoch 123/300\n",
            "313/313 [==============================] - 1s 2ms/step - loss: 0.5520 - accuracy: 0.6973\n",
            "Epoch 124/300\n",
            "313/313 [==============================] - 1s 2ms/step - loss: 0.5537 - accuracy: 0.6957\n",
            "Epoch 125/300\n",
            "313/313 [==============================] - 1s 2ms/step - loss: 0.5476 - accuracy: 0.7002\n",
            "Epoch 126/300\n",
            "313/313 [==============================] - 1s 2ms/step - loss: 0.5519 - accuracy: 0.6977\n",
            "Epoch 127/300\n",
            "313/313 [==============================] - 1s 2ms/step - loss: 0.5570 - accuracy: 0.6945\n",
            "Epoch 128/300\n",
            "313/313 [==============================] - 1s 2ms/step - loss: 0.5538 - accuracy: 0.6961\n",
            "Epoch 129/300\n",
            "313/313 [==============================] - 1s 2ms/step - loss: 0.5575 - accuracy: 0.6946\n",
            "Epoch 130/300\n",
            "313/313 [==============================] - 1s 2ms/step - loss: 0.5479 - accuracy: 0.6971\n",
            "Epoch 131/300\n",
            "313/313 [==============================] - 1s 2ms/step - loss: 0.5496 - accuracy: 0.6967\n",
            "Epoch 132/300\n",
            "313/313 [==============================] - 1s 2ms/step - loss: 0.5496 - accuracy: 0.6955\n",
            "Epoch 133/300\n",
            "313/313 [==============================] - 1s 2ms/step - loss: 0.5523 - accuracy: 0.6974\n",
            "Epoch 134/300\n",
            "313/313 [==============================] - 1s 2ms/step - loss: 0.5480 - accuracy: 0.6987\n",
            "Epoch 135/300\n",
            "313/313 [==============================] - 1s 2ms/step - loss: 0.5500 - accuracy: 0.6966\n",
            "Epoch 136/300\n",
            "313/313 [==============================] - 1s 2ms/step - loss: 0.5528 - accuracy: 0.6952\n",
            "Epoch 137/300\n",
            "313/313 [==============================] - 1s 2ms/step - loss: 0.5546 - accuracy: 0.6990\n",
            "Epoch 138/300\n",
            "313/313 [==============================] - 1s 2ms/step - loss: 0.5525 - accuracy: 0.6980\n",
            "Epoch 139/300\n",
            "313/313 [==============================] - 1s 2ms/step - loss: 0.5579 - accuracy: 0.6970\n",
            "Epoch 140/300\n",
            "313/313 [==============================] - 1s 2ms/step - loss: 0.5529 - accuracy: 0.6949\n",
            "Epoch 141/300\n",
            "313/313 [==============================] - 1s 2ms/step - loss: 0.5522 - accuracy: 0.6936\n",
            "Epoch 142/300\n",
            "313/313 [==============================] - 1s 2ms/step - loss: 0.5494 - accuracy: 0.6985\n",
            "Epoch 143/300\n",
            "313/313 [==============================] - 1s 2ms/step - loss: 0.5489 - accuracy: 0.7006\n",
            "Epoch 144/300\n",
            "313/313 [==============================] - 1s 2ms/step - loss: 0.5457 - accuracy: 0.6993\n",
            "Epoch 145/300\n",
            "313/313 [==============================] - 1s 2ms/step - loss: 0.5572 - accuracy: 0.6989\n",
            "Epoch 146/300\n",
            "313/313 [==============================] - 1s 2ms/step - loss: 0.5562 - accuracy: 0.6940\n",
            "Epoch 147/300\n",
            "313/313 [==============================] - 1s 2ms/step - loss: 0.5535 - accuracy: 0.6987\n",
            "Epoch 148/300\n",
            "313/313 [==============================] - 1s 2ms/step - loss: 0.5567 - accuracy: 0.6941\n",
            "Epoch 149/300\n",
            "313/313 [==============================] - 1s 2ms/step - loss: 0.5596 - accuracy: 0.6948\n",
            "Epoch 150/300\n",
            "313/313 [==============================] - 1s 2ms/step - loss: 0.5526 - accuracy: 0.7012\n",
            "Epoch 151/300\n",
            "313/313 [==============================] - 1s 2ms/step - loss: 0.5533 - accuracy: 0.7055\n",
            "Epoch 152/300\n",
            "313/313 [==============================] - 1s 2ms/step - loss: 0.5482 - accuracy: 0.6983\n",
            "Epoch 153/300\n",
            "313/313 [==============================] - 1s 2ms/step - loss: 0.5582 - accuracy: 0.6950\n",
            "Epoch 154/300\n",
            "313/313 [==============================] - 1s 2ms/step - loss: 0.5532 - accuracy: 0.6961\n",
            "Epoch 155/300\n",
            "313/313 [==============================] - 1s 2ms/step - loss: 0.5490 - accuracy: 0.6980\n",
            "Epoch 156/300\n",
            "313/313 [==============================] - 1s 2ms/step - loss: 0.5494 - accuracy: 0.6976\n",
            "Epoch 157/300\n",
            "313/313 [==============================] - 1s 2ms/step - loss: 0.5528 - accuracy: 0.6963\n",
            "Epoch 158/300\n",
            "313/313 [==============================] - 1s 2ms/step - loss: 0.5502 - accuracy: 0.6984\n",
            "Epoch 159/300\n",
            "313/313 [==============================] - 1s 2ms/step - loss: 0.5480 - accuracy: 0.6976\n",
            "Epoch 160/300\n",
            "313/313 [==============================] - 1s 2ms/step - loss: 0.5530 - accuracy: 0.6961\n",
            "Epoch 161/300\n",
            "313/313 [==============================] - 1s 2ms/step - loss: 0.5509 - accuracy: 0.6941\n",
            "Epoch 162/300\n",
            "313/313 [==============================] - 1s 2ms/step - loss: 0.5512 - accuracy: 0.6952\n",
            "Epoch 163/300\n",
            "313/313 [==============================] - 1s 2ms/step - loss: 0.5556 - accuracy: 0.6944\n",
            "Epoch 164/300\n",
            "313/313 [==============================] - 1s 2ms/step - loss: 0.5499 - accuracy: 0.6988\n",
            "Epoch 165/300\n",
            "313/313 [==============================] - 1s 2ms/step - loss: 0.5502 - accuracy: 0.7001\n",
            "Epoch 166/300\n",
            "313/313 [==============================] - 1s 2ms/step - loss: 0.5525 - accuracy: 0.6975\n",
            "Epoch 167/300\n",
            "313/313 [==============================] - 1s 2ms/step - loss: 0.5564 - accuracy: 0.6964\n",
            "Epoch 168/300\n",
            "313/313 [==============================] - 1s 2ms/step - loss: 0.5486 - accuracy: 0.7002\n",
            "Epoch 169/300\n",
            "313/313 [==============================] - 1s 2ms/step - loss: 0.5519 - accuracy: 0.7027\n",
            "Epoch 170/300\n",
            "313/313 [==============================] - 1s 2ms/step - loss: 0.5653 - accuracy: 0.6983\n",
            "Epoch 171/300\n",
            "313/313 [==============================] - 1s 2ms/step - loss: 0.5493 - accuracy: 0.6982\n",
            "Epoch 172/300\n",
            "313/313 [==============================] - 1s 2ms/step - loss: 0.5486 - accuracy: 0.7033\n",
            "Epoch 173/300\n",
            "313/313 [==============================] - 1s 2ms/step - loss: 0.5541 - accuracy: 0.6988\n",
            "Epoch 174/300\n",
            "313/313 [==============================] - 1s 2ms/step - loss: 0.5530 - accuracy: 0.6949\n",
            "Epoch 175/300\n",
            "313/313 [==============================] - 1s 2ms/step - loss: 0.5527 - accuracy: 0.6968\n",
            "Epoch 176/300\n",
            "313/313 [==============================] - 1s 2ms/step - loss: 0.5504 - accuracy: 0.6947\n",
            "Epoch 177/300\n",
            "313/313 [==============================] - 1s 2ms/step - loss: 0.5514 - accuracy: 0.6991\n",
            "Epoch 178/300\n",
            "313/313 [==============================] - 1s 2ms/step - loss: 0.5533 - accuracy: 0.6948\n",
            "Epoch 179/300\n",
            "313/313 [==============================] - 1s 2ms/step - loss: 0.5515 - accuracy: 0.6973\n",
            "Epoch 180/300\n",
            "313/313 [==============================] - 1s 2ms/step - loss: 0.5498 - accuracy: 0.6972\n",
            "Epoch 181/300\n",
            "313/313 [==============================] - 1s 2ms/step - loss: 0.5533 - accuracy: 0.6993\n",
            "Epoch 182/300\n",
            "313/313 [==============================] - 1s 2ms/step - loss: 0.5482 - accuracy: 0.7004\n",
            "Epoch 183/300\n",
            "313/313 [==============================] - 1s 2ms/step - loss: 0.5524 - accuracy: 0.6976\n",
            "Epoch 184/300\n",
            "313/313 [==============================] - 1s 2ms/step - loss: 0.5481 - accuracy: 0.7006\n",
            "Epoch 185/300\n",
            "313/313 [==============================] - 1s 2ms/step - loss: 0.5563 - accuracy: 0.6914\n",
            "Epoch 186/300\n",
            "313/313 [==============================] - 1s 2ms/step - loss: 0.5535 - accuracy: 0.6987\n",
            "Epoch 187/300\n",
            "313/313 [==============================] - 1s 2ms/step - loss: 0.5543 - accuracy: 0.6985\n",
            "Epoch 188/300\n",
            "313/313 [==============================] - 1s 2ms/step - loss: 0.5531 - accuracy: 0.6959\n",
            "Epoch 189/300\n",
            "313/313 [==============================] - 1s 2ms/step - loss: 0.5573 - accuracy: 0.6969\n",
            "Epoch 190/300\n",
            "313/313 [==============================] - 1s 2ms/step - loss: 0.5494 - accuracy: 0.6942\n",
            "Epoch 191/300\n",
            "313/313 [==============================] - 1s 2ms/step - loss: 0.5460 - accuracy: 0.6976\n",
            "Epoch 192/300\n",
            "313/313 [==============================] - 1s 2ms/step - loss: 0.5488 - accuracy: 0.6998\n",
            "Epoch 193/300\n",
            "313/313 [==============================] - 1s 2ms/step - loss: 0.5507 - accuracy: 0.7003\n",
            "Epoch 194/300\n",
            "313/313 [==============================] - 1s 2ms/step - loss: 0.5520 - accuracy: 0.6983\n",
            "Epoch 195/300\n",
            "313/313 [==============================] - 1s 2ms/step - loss: 0.5498 - accuracy: 0.7004\n",
            "Epoch 196/300\n",
            "313/313 [==============================] - 1s 2ms/step - loss: 0.5520 - accuracy: 0.7008\n",
            "Epoch 197/300\n",
            "313/313 [==============================] - 1s 2ms/step - loss: 0.5498 - accuracy: 0.6967\n",
            "Epoch 198/300\n",
            "313/313 [==============================] - 1s 2ms/step - loss: 0.5500 - accuracy: 0.6976\n",
            "Epoch 199/300\n",
            "313/313 [==============================] - 1s 2ms/step - loss: 0.5511 - accuracy: 0.6989\n",
            "Epoch 200/300\n",
            "313/313 [==============================] - 1s 2ms/step - loss: 0.5497 - accuracy: 0.6971\n",
            "Epoch 201/300\n",
            "313/313 [==============================] - 1s 2ms/step - loss: 0.5451 - accuracy: 0.7009\n",
            "Epoch 202/300\n",
            "313/313 [==============================] - 1s 2ms/step - loss: 0.5506 - accuracy: 0.6947\n",
            "Epoch 203/300\n",
            "313/313 [==============================] - 1s 2ms/step - loss: 0.5514 - accuracy: 0.6958\n",
            "Epoch 204/300\n",
            "313/313 [==============================] - 1s 2ms/step - loss: 0.5523 - accuracy: 0.7016\n",
            "Epoch 205/300\n",
            "313/313 [==============================] - 1s 2ms/step - loss: 0.5486 - accuracy: 0.6988\n",
            "Epoch 206/300\n",
            "313/313 [==============================] - 1s 2ms/step - loss: 0.5536 - accuracy: 0.6934\n",
            "Epoch 207/300\n",
            "313/313 [==============================] - 1s 2ms/step - loss: 0.5495 - accuracy: 0.6993\n",
            "Epoch 208/300\n",
            "313/313 [==============================] - 1s 2ms/step - loss: 0.5539 - accuracy: 0.6939\n",
            "Epoch 209/300\n",
            "313/313 [==============================] - 1s 2ms/step - loss: 0.5478 - accuracy: 0.7033\n",
            "Epoch 210/300\n",
            "313/313 [==============================] - 1s 2ms/step - loss: 0.5527 - accuracy: 0.6949\n",
            "Epoch 211/300\n",
            "313/313 [==============================] - 1s 2ms/step - loss: 0.5524 - accuracy: 0.6975\n",
            "Epoch 212/300\n",
            "313/313 [==============================] - 1s 2ms/step - loss: 0.5498 - accuracy: 0.6955\n",
            "Epoch 213/300\n",
            "313/313 [==============================] - 1s 2ms/step - loss: 0.5668 - accuracy: 0.6900\n",
            "Epoch 214/300\n",
            "313/313 [==============================] - 1s 2ms/step - loss: 0.5476 - accuracy: 0.6998\n",
            "Epoch 215/300\n",
            "313/313 [==============================] - 1s 2ms/step - loss: 0.5545 - accuracy: 0.6977\n",
            "Epoch 216/300\n",
            "313/313 [==============================] - 1s 2ms/step - loss: 0.5492 - accuracy: 0.7000\n",
            "Epoch 217/300\n",
            "313/313 [==============================] - 1s 2ms/step - loss: 0.5505 - accuracy: 0.7017\n",
            "Epoch 218/300\n",
            "313/313 [==============================] - 1s 2ms/step - loss: 0.5599 - accuracy: 0.6924\n",
            "Epoch 219/300\n",
            "313/313 [==============================] - 1s 2ms/step - loss: 0.5477 - accuracy: 0.7010\n",
            "Epoch 220/300\n",
            "313/313 [==============================] - 1s 2ms/step - loss: 0.5545 - accuracy: 0.6941\n",
            "Epoch 221/300\n",
            "313/313 [==============================] - 1s 2ms/step - loss: 0.5505 - accuracy: 0.6964\n",
            "Epoch 222/300\n",
            "313/313 [==============================] - 1s 2ms/step - loss: 0.5514 - accuracy: 0.6923\n",
            "Epoch 223/300\n",
            "313/313 [==============================] - 1s 2ms/step - loss: 0.5608 - accuracy: 0.6940\n",
            "Epoch 224/300\n",
            "313/313 [==============================] - 1s 2ms/step - loss: 0.5499 - accuracy: 0.6959\n",
            "Epoch 225/300\n",
            "313/313 [==============================] - 1s 2ms/step - loss: 0.5498 - accuracy: 0.7035\n",
            "Epoch 226/300\n",
            "313/313 [==============================] - 1s 2ms/step - loss: 0.5473 - accuracy: 0.6963\n",
            "Epoch 227/300\n",
            "313/313 [==============================] - 1s 2ms/step - loss: 0.5570 - accuracy: 0.6920\n",
            "Epoch 228/300\n",
            "313/313 [==============================] - 1s 2ms/step - loss: 0.5555 - accuracy: 0.6954\n",
            "Epoch 229/300\n",
            "313/313 [==============================] - 1s 2ms/step - loss: 0.5487 - accuracy: 0.7000\n",
            "Epoch 230/300\n",
            "313/313 [==============================] - 1s 2ms/step - loss: 0.5516 - accuracy: 0.6976\n",
            "Epoch 231/300\n",
            "313/313 [==============================] - 1s 2ms/step - loss: 0.5509 - accuracy: 0.6953\n",
            "Epoch 232/300\n",
            "313/313 [==============================] - 1s 2ms/step - loss: 0.5552 - accuracy: 0.6965\n",
            "Epoch 233/300\n",
            "313/313 [==============================] - 1s 2ms/step - loss: 0.5566 - accuracy: 0.6945\n",
            "Epoch 234/300\n",
            "313/313 [==============================] - 1s 2ms/step - loss: 0.5505 - accuracy: 0.6989\n",
            "Epoch 235/300\n",
            "313/313 [==============================] - 1s 2ms/step - loss: 0.5483 - accuracy: 0.6982\n",
            "Epoch 236/300\n",
            "313/313 [==============================] - 1s 2ms/step - loss: 0.5524 - accuracy: 0.6978\n",
            "Epoch 237/300\n",
            "313/313 [==============================] - 1s 2ms/step - loss: 0.5467 - accuracy: 0.6984\n",
            "Epoch 238/300\n",
            "313/313 [==============================] - 1s 2ms/step - loss: 0.5533 - accuracy: 0.6988\n",
            "Epoch 239/300\n",
            "313/313 [==============================] - 1s 2ms/step - loss: 0.5546 - accuracy: 0.6923\n",
            "Epoch 240/300\n",
            "313/313 [==============================] - 1s 2ms/step - loss: 0.5571 - accuracy: 0.6939\n",
            "Epoch 241/300\n",
            "313/313 [==============================] - 1s 2ms/step - loss: 0.5513 - accuracy: 0.6997\n",
            "Epoch 242/300\n",
            "313/313 [==============================] - 1s 2ms/step - loss: 0.5509 - accuracy: 0.6961\n",
            "Epoch 243/300\n",
            "313/313 [==============================] - 1s 2ms/step - loss: 0.5521 - accuracy: 0.6984\n",
            "Epoch 244/300\n",
            "313/313 [==============================] - 1s 2ms/step - loss: 0.5516 - accuracy: 0.6997\n",
            "Epoch 245/300\n",
            "313/313 [==============================] - 1s 2ms/step - loss: 0.5493 - accuracy: 0.7004\n",
            "Epoch 246/300\n",
            "313/313 [==============================] - 1s 2ms/step - loss: 0.5534 - accuracy: 0.6950\n",
            "Epoch 247/300\n",
            "313/313 [==============================] - 1s 2ms/step - loss: 0.5518 - accuracy: 0.6996\n",
            "Epoch 248/300\n",
            "313/313 [==============================] - 1s 2ms/step - loss: 0.5528 - accuracy: 0.6970\n",
            "Epoch 249/300\n",
            "313/313 [==============================] - 1s 2ms/step - loss: 0.5452 - accuracy: 0.6986\n",
            "Epoch 250/300\n",
            "313/313 [==============================] - 1s 2ms/step - loss: 0.5526 - accuracy: 0.6982\n",
            "Epoch 251/300\n",
            "313/313 [==============================] - 1s 2ms/step - loss: 0.5488 - accuracy: 0.6988\n",
            "Epoch 252/300\n",
            "313/313 [==============================] - 1s 2ms/step - loss: 0.5534 - accuracy: 0.6997\n",
            "Epoch 253/300\n",
            "313/313 [==============================] - 1s 2ms/step - loss: 0.5481 - accuracy: 0.7009\n",
            "Epoch 254/300\n",
            "313/313 [==============================] - 1s 2ms/step - loss: 0.5504 - accuracy: 0.6992\n",
            "Epoch 255/300\n",
            "313/313 [==============================] - 1s 2ms/step - loss: 0.5502 - accuracy: 0.7001\n",
            "Epoch 256/300\n",
            "313/313 [==============================] - 1s 2ms/step - loss: 0.5489 - accuracy: 0.6991\n",
            "Epoch 257/300\n",
            "313/313 [==============================] - 1s 2ms/step - loss: 0.5493 - accuracy: 0.6970\n",
            "Epoch 258/300\n",
            "313/313 [==============================] - 1s 2ms/step - loss: 0.5501 - accuracy: 0.6981\n",
            "Epoch 259/300\n",
            "313/313 [==============================] - 1s 2ms/step - loss: 0.5494 - accuracy: 0.6992\n",
            "Epoch 260/300\n",
            "313/313 [==============================] - 1s 2ms/step - loss: 0.5528 - accuracy: 0.6972\n",
            "Epoch 261/300\n",
            "313/313 [==============================] - 1s 2ms/step - loss: 0.5494 - accuracy: 0.6976\n",
            "Epoch 262/300\n",
            "313/313 [==============================] - 1s 2ms/step - loss: 0.5514 - accuracy: 0.7013\n",
            "Epoch 263/300\n",
            "313/313 [==============================] - 1s 2ms/step - loss: 0.5666 - accuracy: 0.6888\n",
            "Epoch 264/300\n",
            "313/313 [==============================] - 1s 2ms/step - loss: 0.5480 - accuracy: 0.6955\n",
            "Epoch 265/300\n",
            "313/313 [==============================] - 1s 2ms/step - loss: 0.5498 - accuracy: 0.6982\n",
            "Epoch 266/300\n",
            "313/313 [==============================] - 1s 2ms/step - loss: 0.5481 - accuracy: 0.7020\n",
            "Epoch 267/300\n",
            "313/313 [==============================] - 1s 2ms/step - loss: 0.5490 - accuracy: 0.7002\n",
            "Epoch 268/300\n",
            "313/313 [==============================] - 1s 2ms/step - loss: 0.5503 - accuracy: 0.6979\n",
            "Epoch 269/300\n",
            "313/313 [==============================] - 1s 2ms/step - loss: 0.5498 - accuracy: 0.6995\n",
            "Epoch 270/300\n",
            "313/313 [==============================] - 1s 2ms/step - loss: 0.5590 - accuracy: 0.6907\n",
            "Epoch 271/300\n",
            "313/313 [==============================] - 1s 2ms/step - loss: 0.5540 - accuracy: 0.7010\n",
            "Epoch 272/300\n",
            "313/313 [==============================] - 1s 2ms/step - loss: 0.5482 - accuracy: 0.7006\n",
            "Epoch 273/300\n",
            "313/313 [==============================] - 1s 2ms/step - loss: 0.5485 - accuracy: 0.7022\n",
            "Epoch 274/300\n",
            "313/313 [==============================] - 1s 2ms/step - loss: 0.5594 - accuracy: 0.6946\n",
            "Epoch 275/300\n",
            "313/313 [==============================] - 1s 2ms/step - loss: 0.5485 - accuracy: 0.6979\n",
            "Epoch 276/300\n",
            "313/313 [==============================] - 1s 2ms/step - loss: 0.5518 - accuracy: 0.6966\n",
            "Epoch 277/300\n",
            "313/313 [==============================] - 1s 2ms/step - loss: 0.5518 - accuracy: 0.6955\n",
            "Epoch 278/300\n",
            "313/313 [==============================] - 1s 2ms/step - loss: 0.5535 - accuracy: 0.7003\n",
            "Epoch 279/300\n",
            "313/313 [==============================] - 1s 2ms/step - loss: 0.5556 - accuracy: 0.6930\n",
            "Epoch 280/300\n",
            "313/313 [==============================] - 1s 2ms/step - loss: 0.5477 - accuracy: 0.6991\n",
            "Epoch 281/300\n",
            "313/313 [==============================] - 1s 2ms/step - loss: 0.5505 - accuracy: 0.6986\n",
            "Epoch 282/300\n",
            "313/313 [==============================] - 1s 2ms/step - loss: 0.5510 - accuracy: 0.6931\n",
            "Epoch 283/300\n",
            "313/313 [==============================] - 1s 2ms/step - loss: 0.5491 - accuracy: 0.6999\n",
            "Epoch 284/300\n",
            "313/313 [==============================] - 1s 2ms/step - loss: 0.5571 - accuracy: 0.6961\n",
            "Epoch 285/300\n",
            "313/313 [==============================] - 1s 2ms/step - loss: 0.5506 - accuracy: 0.6990\n",
            "Epoch 286/300\n",
            "313/313 [==============================] - 1s 2ms/step - loss: 0.5545 - accuracy: 0.6949\n",
            "Epoch 287/300\n",
            "313/313 [==============================] - 1s 2ms/step - loss: 0.5490 - accuracy: 0.6981\n",
            "Epoch 288/300\n",
            "313/313 [==============================] - 1s 2ms/step - loss: 0.5517 - accuracy: 0.6994\n",
            "Epoch 289/300\n",
            "313/313 [==============================] - 1s 2ms/step - loss: 0.5514 - accuracy: 0.6976\n",
            "Epoch 290/300\n",
            "313/313 [==============================] - 1s 2ms/step - loss: 0.5532 - accuracy: 0.6966\n",
            "Epoch 291/300\n",
            "313/313 [==============================] - 1s 2ms/step - loss: 0.5543 - accuracy: 0.6969\n",
            "Epoch 292/300\n",
            "313/313 [==============================] - 1s 2ms/step - loss: 0.5546 - accuracy: 0.6963\n",
            "Epoch 293/300\n",
            "313/313 [==============================] - 1s 2ms/step - loss: 0.5558 - accuracy: 0.6958\n",
            "Epoch 294/300\n",
            "313/313 [==============================] - 1s 2ms/step - loss: 0.5559 - accuracy: 0.6969\n",
            "Epoch 295/300\n",
            "313/313 [==============================] - 1s 2ms/step - loss: 0.5537 - accuracy: 0.6980\n",
            "Epoch 296/300\n",
            "313/313 [==============================] - 1s 2ms/step - loss: 0.5475 - accuracy: 0.7003\n",
            "Epoch 297/300\n",
            "313/313 [==============================] - 1s 2ms/step - loss: 0.5541 - accuracy: 0.6955\n",
            "Epoch 298/300\n",
            "313/313 [==============================] - 1s 2ms/step - loss: 0.5524 - accuracy: 0.6976\n",
            "Epoch 299/300\n",
            "313/313 [==============================] - 1s 2ms/step - loss: 0.5537 - accuracy: 0.6957\n",
            "Epoch 300/300\n",
            "313/313 [==============================] - 1s 2ms/step - loss: 0.5540 - accuracy: 0.6970\n"
          ],
          "name": "stdout"
        }
      ]
    },
    {
      "cell_type": "code",
      "metadata": {
        "id": "xGPXNzQ0-s5O",
        "colab": {
          "base_uri": "https://localhost:8080/"
        },
        "outputId": "f8547ed7-858d-4a51-9ef5-34eb2c160285"
      },
      "source": [
        "pred_score = model2.predict(input)\n",
        "score = np.zeros(pred_score.shape[0])\n",
        "true = 0\n",
        "\n",
        "for i in range(0,pred_score.shape[0]):\n",
        "\n",
        "  if pred_score[i] > 0.8 :\n",
        "    score[i] = 1\n",
        "\n",
        "  if score[i] == label[i]:\n",
        "    true = true + 1\n",
        "\n",
        "acc = true/10000\n",
        "print(acc)"
      ],
      "execution_count": null,
      "outputs": [
        {
          "output_type": "stream",
          "text": [
            "0.6893\n"
          ],
          "name": "stdout"
        }
      ]
    },
    {
      "cell_type": "code",
      "metadata": {
        "id": "QmkCB7eLAQbl"
      },
      "source": [
        "pred_score = model2.predict(test)\n",
        "score = np.zeros(pred_score.shape[0])\n",
        "true = 0\n",
        "\n",
        "for i in range(0,pred_score.shape[0]):\n",
        "  if pred_score[i] > 0.6 :\n",
        "    score[i] = 1\n",
        "\n"
      ],
      "execution_count": null,
      "outputs": []
    },
    {
      "cell_type": "code",
      "metadata": {
        "colab": {
          "base_uri": "https://localhost:8080/"
        },
        "id": "YBOy7Xy-HR2C",
        "outputId": "9181fac3-0484-46ae-a151-5ee663bb0c74"
      },
      "source": [
        "score"
      ],
      "execution_count": null,
      "outputs": [
        {
          "output_type": "execute_result",
          "data": {
            "text/plain": [
              "array([1., 0., 0., ..., 0., 1., 0.])"
            ]
          },
          "metadata": {
            "tags": []
          },
          "execution_count": 22
        }
      ]
    },
    {
      "cell_type": "code",
      "metadata": {
        "id": "zK91HFPXHhj_"
      },
      "source": [
        "df = pd.DataFrame(score)\n",
        "df.to_csv('TestProductNDSC.csv',index_label=\"pair_index\",header=[\"label\"])"
      ],
      "execution_count": null,
      "outputs": []
    },
    {
      "cell_type": "code",
      "metadata": {
        "id": "i8v67qR7QI_M"
      },
      "source": [
        ""
      ],
      "execution_count": null,
      "outputs": []
    }
  ]
}